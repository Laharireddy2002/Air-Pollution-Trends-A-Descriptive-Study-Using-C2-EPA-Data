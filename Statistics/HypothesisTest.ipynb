{
 "cells": [
  {
   "cell_type": "markdown",
   "id": "df5baabe-63a6-4b26-aae5-ecf9909332ae",
   "metadata": {},
   "source": [
    "# Hypothesis Test"
   ]
  },
  {
   "cell_type": "markdown",
   "id": "fdef2be7-1781-4252-8c14-314dd5f5ffea",
   "metadata": {},
   "source": [
    "## Import packages and load Data"
   ]
  },
  {
   "cell_type": "code",
   "execution_count": 1,
   "id": "e771bc92-b149-4a4e-84f9-c4dcd74f59df",
   "metadata": {},
   "outputs": [],
   "source": [
    "import pandas as pd\n",
    "from scipy import stats"
   ]
  },
  {
   "cell_type": "code",
   "execution_count": 2,
   "id": "da97cfad-a867-49b1-8835-be1ead820d62",
   "metadata": {},
   "outputs": [],
   "source": [
    "education_districtwise = pd.read_csv(r\"C:\\Users\\Lahari Reddy\\Desktop\\GoogleDA\\Statistics\\education_districtwise.csv\")\n",
    "education_districtwise = education_districtwise.dropna()"
   ]
  },
  {
   "cell_type": "markdown",
   "id": "a9b81c1d-f952-476e-bb62-7a5d2588d907",
   "metadata": {},
   "source": [
    "## Data Explortation"
   ]
  },
  {
   "cell_type": "code",
   "execution_count": 3,
   "id": "d8ee9a29-d1ee-4949-b165-d1003ebedaf6",
   "metadata": {},
   "outputs": [],
   "source": [
    "state21 = education_districtwise[education_districtwise['STATNAME'] == \"STATE21\"]"
   ]
  },
  {
   "cell_type": "code",
   "execution_count": 4,
   "id": "81094ad2-74cc-45c1-affd-ce96838ad05e",
   "metadata": {},
   "outputs": [],
   "source": [
    "state28 = education_districtwise[education_districtwise['STATNAME'] == \"STATE28\"]"
   ]
  },
  {
   "cell_type": "markdown",
   "id": "e6df3651-57d9-4c0e-9a6e-48ff131dc8eb",
   "metadata": {},
   "source": [
    "## Stimulate Random Sampling"
   ]
  },
  {
   "cell_type": "code",
   "execution_count": 5,
   "id": "c92ab605-e437-4962-9454-1c28c60c88ed",
   "metadata": {},
   "outputs": [],
   "source": [
    "sampled_state21 = state21.sample(n=20, replace = True, random_state=13490)"
   ]
  },
  {
   "cell_type": "code",
   "execution_count": 6,
   "id": "6b240993-84e0-4670-8dfc-d2b5ed2605a6",
   "metadata": {},
   "outputs": [],
   "source": [
    "sampled_state28 = state28.sample(n=20, replace = True, random_state=39103)"
   ]
  },
  {
   "cell_type": "markdown",
   "id": "642f15fb-71e7-4fbc-96f9-245b32a28baa",
   "metadata": {},
   "source": [
    "## Compute the Sample Means"
   ]
  },
  {
   "cell_type": "code",
   "execution_count": 7,
   "id": "63c7fd26-14a3-4601-bfec-6f7a549f9e80",
   "metadata": {},
   "outputs": [
    {
     "data": {
      "text/plain": [
       "70.82900000000001"
      ]
     },
     "execution_count": 7,
     "metadata": {},
     "output_type": "execute_result"
    }
   ],
   "source": [
    "sampled_state21['OVERALL_LI'].mean()"
   ]
  },
  {
   "cell_type": "code",
   "execution_count": 8,
   "id": "965ec3da-d33b-418e-a06e-9b320fa79d08",
   "metadata": {},
   "outputs": [
    {
     "data": {
      "text/plain": [
       "64.60100000000001"
      ]
     },
     "execution_count": 8,
     "metadata": {},
     "output_type": "execute_result"
    }
   ],
   "source": [
    "sampled_state28['OVERALL_LI'].mean()"
   ]
  },
  {
   "cell_type": "markdown",
   "id": "e17a6d40-01c3-4908-b545-04b31da12bd9",
   "metadata": {},
   "source": [
    "## Conduct Hypothesis Test"
   ]
  },
  {
   "cell_type": "code",
   "execution_count": 9,
   "id": "388dcc93-039d-4234-9e18-98d6ff89e70c",
   "metadata": {},
   "outputs": [
    {
     "data": {
      "text/plain": [
       "TtestResult(statistic=2.8980444277268735, pvalue=0.006421719142765237, df=35.20796133045557)"
      ]
     },
     "execution_count": 9,
     "metadata": {},
     "output_type": "execute_result"
    }
   ],
   "source": [
    "stats.ttest_ind(a=sampled_state21['OVERALL_LI'], b=sampled_state28['OVERALL_LI'], equal_var=False)"
   ]
  },
  {
   "cell_type": "markdown",
   "id": "3cfbbbeb-9b1b-45c6-9cc5-59218dc916b8",
   "metadata": {},
   "source": [
    "Your p-value is about 0.0064, or 0.64%.\n",
    "\n",
    "This means there is only a 0.64% probability that the absolute difference between the two mean district literacy rates would be 6.2 percentage points or greater if the null hypothesis were true. In other words, it’s highly unlikely that the difference in the two means is due to chance."
   ]
  },
  {
   "cell_type": "code",
   "execution_count": null,
   "id": "0a06abf3-fa66-4058-a76e-09e7cf5e8940",
   "metadata": {},
   "outputs": [],
   "source": []
  }
 ],
 "metadata": {
  "kernelspec": {
   "display_name": "Python 3 (ipykernel)",
   "language": "python",
   "name": "python3"
  },
  "language_info": {
   "codemirror_mode": {
    "name": "ipython",
    "version": 3
   },
   "file_extension": ".py",
   "mimetype": "text/x-python",
   "name": "python",
   "nbconvert_exporter": "python",
   "pygments_lexer": "ipython3",
   "version": "3.12.7"
  }
 },
 "nbformat": 4,
 "nbformat_minor": 5
}
