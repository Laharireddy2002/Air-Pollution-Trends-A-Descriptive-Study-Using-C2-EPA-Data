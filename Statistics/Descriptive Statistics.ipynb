{
 "cells": [
  {
   "cell_type": "markdown",
   "id": "91abc68d-eb80-435f-84ff-e033d86d5d12",
   "metadata": {},
   "source": [
    "# Descriptive Statistics"
   ]
  },
  {
   "cell_type": "markdown",
   "id": "3b8343f5-0d11-4e86-83e3-698519ec93b6",
   "metadata": {},
   "source": [
    "## Imports"
   ]
  },
  {
   "cell_type": "code",
   "execution_count": 1,
   "id": "ea18d586-c061-4144-a5ef-5a148d72383d",
   "metadata": {},
   "outputs": [],
   "source": [
    "# Import relevant Python libraries.\n",
    "\n",
    "import pandas as pd\n",
    "import numpy as np"
   ]
  },
  {
   "cell_type": "code",
   "execution_count": 2,
   "id": "d756cb6e-3ce8-4208-bf2b-af29fe9eafa2",
   "metadata": {},
   "outputs": [],
   "source": [
    "# Load data from the .csv file into a DataFrame and save in a variable.\n",
    "\n",
    "epa_data = pd.read_csv(r\"C:\\Users\\Lahari Reddy\\Desktop\\GoogleDA\\Statistics\\c2_epa_air_quality.csv\", index_col = 0)"
   ]
  },
  {
   "cell_type": "markdown",
   "id": "10a777d9-8dba-40dd-8c30-b5c57f7a4fcf",
   "metadata": {},
   "source": [
    "## Data Exploration"
   ]
  },
  {
   "cell_type": "code",
   "execution_count": 3,
   "id": "2a888b40-25b9-48f0-8278-82504ef499b9",
   "metadata": {},
   "outputs": [
    {
     "data": {
      "text/html": [
       "<div>\n",
       "<style scoped>\n",
       "    .dataframe tbody tr th:only-of-type {\n",
       "        vertical-align: middle;\n",
       "    }\n",
       "\n",
       "    .dataframe tbody tr th {\n",
       "        vertical-align: top;\n",
       "    }\n",
       "\n",
       "    .dataframe thead th {\n",
       "        text-align: right;\n",
       "    }\n",
       "</style>\n",
       "<table border=\"1\" class=\"dataframe\">\n",
       "  <thead>\n",
       "    <tr style=\"text-align: right;\">\n",
       "      <th></th>\n",
       "      <th>state_name</th>\n",
       "      <th>county_code</th>\n",
       "      <th>county_name</th>\n",
       "      <th>aqi</th>\n",
       "      <th>state_code_int</th>\n",
       "      <th>county_code_int</th>\n",
       "    </tr>\n",
       "    <tr>\n",
       "      <th>state_code</th>\n",
       "      <th></th>\n",
       "      <th></th>\n",
       "      <th></th>\n",
       "      <th></th>\n",
       "      <th></th>\n",
       "      <th></th>\n",
       "    </tr>\n",
       "  </thead>\n",
       "  <tbody>\n",
       "    <tr>\n",
       "      <th>4</th>\n",
       "      <td>Arizona</td>\n",
       "      <td>13</td>\n",
       "      <td>Maricopa</td>\n",
       "      <td>18.0</td>\n",
       "      <td>4</td>\n",
       "      <td>13</td>\n",
       "    </tr>\n",
       "    <tr>\n",
       "      <th>4</th>\n",
       "      <td>Arizona</td>\n",
       "      <td>13</td>\n",
       "      <td>Maricopa</td>\n",
       "      <td>9.0</td>\n",
       "      <td>4</td>\n",
       "      <td>13</td>\n",
       "    </tr>\n",
       "    <tr>\n",
       "      <th>4</th>\n",
       "      <td>Arizona</td>\n",
       "      <td>19</td>\n",
       "      <td>Pima</td>\n",
       "      <td>20.0</td>\n",
       "      <td>4</td>\n",
       "      <td>19</td>\n",
       "    </tr>\n",
       "    <tr>\n",
       "      <th>6</th>\n",
       "      <td>California</td>\n",
       "      <td>1</td>\n",
       "      <td>Alameda</td>\n",
       "      <td>11.0</td>\n",
       "      <td>6</td>\n",
       "      <td>1</td>\n",
       "    </tr>\n",
       "    <tr>\n",
       "      <th>6</th>\n",
       "      <td>California</td>\n",
       "      <td>7</td>\n",
       "      <td>Butte</td>\n",
       "      <td>6.0</td>\n",
       "      <td>6</td>\n",
       "      <td>7</td>\n",
       "    </tr>\n",
       "    <tr>\n",
       "      <th>6</th>\n",
       "      <td>California</td>\n",
       "      <td>19</td>\n",
       "      <td>Fresno</td>\n",
       "      <td>11.0</td>\n",
       "      <td>6</td>\n",
       "      <td>19</td>\n",
       "    </tr>\n",
       "    <tr>\n",
       "      <th>6</th>\n",
       "      <td>California</td>\n",
       "      <td>29</td>\n",
       "      <td>Kern</td>\n",
       "      <td>7.0</td>\n",
       "      <td>6</td>\n",
       "      <td>29</td>\n",
       "    </tr>\n",
       "    <tr>\n",
       "      <th>6</th>\n",
       "      <td>California</td>\n",
       "      <td>29</td>\n",
       "      <td>Kern</td>\n",
       "      <td>3.0</td>\n",
       "      <td>6</td>\n",
       "      <td>29</td>\n",
       "    </tr>\n",
       "    <tr>\n",
       "      <th>6</th>\n",
       "      <td>California</td>\n",
       "      <td>29</td>\n",
       "      <td>Kern</td>\n",
       "      <td>7.0</td>\n",
       "      <td>6</td>\n",
       "      <td>29</td>\n",
       "    </tr>\n",
       "    <tr>\n",
       "      <th>6</th>\n",
       "      <td>California</td>\n",
       "      <td>37</td>\n",
       "      <td>Los Angeles</td>\n",
       "      <td>13.0</td>\n",
       "      <td>6</td>\n",
       "      <td>37</td>\n",
       "    </tr>\n",
       "  </tbody>\n",
       "</table>\n",
       "</div>"
      ],
      "text/plain": [
       "            state_name  county_code  county_name   aqi  state_code_int  \\\n",
       "state_code                                                               \n",
       "4              Arizona           13     Maricopa  18.0               4   \n",
       "4              Arizona           13     Maricopa   9.0               4   \n",
       "4              Arizona           19         Pima  20.0               4   \n",
       "6           California            1      Alameda  11.0               6   \n",
       "6           California            7        Butte   6.0               6   \n",
       "6           California           19       Fresno  11.0               6   \n",
       "6           California           29         Kern   7.0               6   \n",
       "6           California           29         Kern   3.0               6   \n",
       "6           California           29         Kern   7.0               6   \n",
       "6           California           37  Los Angeles  13.0               6   \n",
       "\n",
       "            county_code_int  \n",
       "state_code                   \n",
       "4                        13  \n",
       "4                        13  \n",
       "4                        19  \n",
       "6                         1  \n",
       "6                         7  \n",
       "6                        19  \n",
       "6                        29  \n",
       "6                        29  \n",
       "6                        29  \n",
       "6                        37  "
      ]
     },
     "execution_count": 3,
     "metadata": {},
     "output_type": "execute_result"
    }
   ],
   "source": [
    "# Display first 10 rows of the data.\n",
    "epa_data.head(10)"
   ]
  },
  {
   "cell_type": "code",
   "execution_count": 4,
   "id": "93ffbd44-9438-4f0b-a217-2d2e0581c056",
   "metadata": {},
   "outputs": [
    {
     "data": {
      "text/html": [
       "<div>\n",
       "<style scoped>\n",
       "    .dataframe tbody tr th:only-of-type {\n",
       "        vertical-align: middle;\n",
       "    }\n",
       "\n",
       "    .dataframe tbody tr th {\n",
       "        vertical-align: top;\n",
       "    }\n",
       "\n",
       "    .dataframe thead th {\n",
       "        text-align: right;\n",
       "    }\n",
       "</style>\n",
       "<table border=\"1\" class=\"dataframe\">\n",
       "  <thead>\n",
       "    <tr style=\"text-align: right;\">\n",
       "      <th></th>\n",
       "      <th>county_code</th>\n",
       "      <th>aqi</th>\n",
       "      <th>state_code_int</th>\n",
       "      <th>county_code_int</th>\n",
       "    </tr>\n",
       "  </thead>\n",
       "  <tbody>\n",
       "    <tr>\n",
       "      <th>count</th>\n",
       "      <td>1725.000000</td>\n",
       "      <td>1725.000000</td>\n",
       "      <td>1725.000000</td>\n",
       "      <td>1725.000000</td>\n",
       "    </tr>\n",
       "    <tr>\n",
       "      <th>mean</th>\n",
       "      <td>83.939130</td>\n",
       "      <td>11.034783</td>\n",
       "      <td>26.595942</td>\n",
       "      <td>83.939130</td>\n",
       "    </tr>\n",
       "    <tr>\n",
       "      <th>std</th>\n",
       "      <td>118.027324</td>\n",
       "      <td>10.385993</td>\n",
       "      <td>18.702416</td>\n",
       "      <td>118.027324</td>\n",
       "    </tr>\n",
       "    <tr>\n",
       "      <th>min</th>\n",
       "      <td>1.000000</td>\n",
       "      <td>0.000000</td>\n",
       "      <td>1.000000</td>\n",
       "      <td>1.000000</td>\n",
       "    </tr>\n",
       "    <tr>\n",
       "      <th>25%</th>\n",
       "      <td>20.000000</td>\n",
       "      <td>5.000000</td>\n",
       "      <td>6.000000</td>\n",
       "      <td>20.000000</td>\n",
       "    </tr>\n",
       "    <tr>\n",
       "      <th>50%</th>\n",
       "      <td>55.000000</td>\n",
       "      <td>8.000000</td>\n",
       "      <td>26.000000</td>\n",
       "      <td>55.000000</td>\n",
       "    </tr>\n",
       "    <tr>\n",
       "      <th>75%</th>\n",
       "      <td>101.000000</td>\n",
       "      <td>15.000000</td>\n",
       "      <td>42.000000</td>\n",
       "      <td>101.000000</td>\n",
       "    </tr>\n",
       "    <tr>\n",
       "      <th>max</th>\n",
       "      <td>810.000000</td>\n",
       "      <td>93.000000</td>\n",
       "      <td>80.000000</td>\n",
       "      <td>810.000000</td>\n",
       "    </tr>\n",
       "  </tbody>\n",
       "</table>\n",
       "</div>"
      ],
      "text/plain": [
       "       county_code          aqi  state_code_int  county_code_int\n",
       "count  1725.000000  1725.000000     1725.000000      1725.000000\n",
       "mean     83.939130    11.034783       26.595942        83.939130\n",
       "std     118.027324    10.385993       18.702416       118.027324\n",
       "min       1.000000     0.000000        1.000000         1.000000\n",
       "25%      20.000000     5.000000        6.000000        20.000000\n",
       "50%      55.000000     8.000000       26.000000        55.000000\n",
       "75%     101.000000    15.000000       42.000000       101.000000\n",
       "max     810.000000    93.000000       80.000000       810.000000"
      ]
     },
     "execution_count": 4,
     "metadata": {},
     "output_type": "execute_result"
    }
   ],
   "source": [
    "# Get descriptive stats.\n",
    "epa_data.describe()"
   ]
  },
  {
   "cell_type": "markdown",
   "id": "59473d6e-c63b-4cdd-9539-d8bc92572cb8",
   "metadata": {},
   "source": [
    "## Descriptive Statistics"
   ]
  },
  {
   "cell_type": "code",
   "execution_count": 5,
   "id": "eca4184e-68d0-4003-a894-770856e96348",
   "metadata": {},
   "outputs": [
    {
     "data": {
      "text/plain": [
       "count           1725\n",
       "unique            42\n",
       "top       California\n",
       "freq             342\n",
       "Name: state_name, dtype: object"
      ]
     },
     "execution_count": 5,
     "metadata": {},
     "output_type": "execute_result"
    }
   ],
   "source": [
    "# Get descriptive stats about the states in the data.\n",
    "epa_data[\"state_name\"].describe()"
   ]
  },
  {
   "cell_type": "markdown",
   "id": "97a7142b-736a-4237-a8b7-171eb9a0bc88",
   "metadata": {},
   "source": [
    "# Results and Evaluation"
   ]
  },
  {
   "cell_type": "code",
   "execution_count": 6,
   "id": "cd017c1e-2db3-45e1-92dc-abccf7156639",
   "metadata": {},
   "outputs": [
    {
     "data": {
      "text/plain": [
       "11.034782608695652"
      ]
     },
     "execution_count": 6,
     "metadata": {},
     "output_type": "execute_result"
    }
   ],
   "source": [
    "# Compute the mean value from the aqi column.\n",
    "np.mean(epa_data[\"aqi\"])"
   ]
  },
  {
   "cell_type": "code",
   "execution_count": 7,
   "id": "1c1a6053-f0c9-461d-90b8-2f8a3eb73f33",
   "metadata": {},
   "outputs": [
    {
     "data": {
      "text/plain": [
       "8.0"
      ]
     },
     "execution_count": 7,
     "metadata": {},
     "output_type": "execute_result"
    }
   ],
   "source": [
    "# Compute the median value from the aqi column.\n",
    "\n",
    "np.median(epa_data[\"aqi\"])"
   ]
  },
  {
   "cell_type": "code",
   "execution_count": 8,
   "id": "bbe3dea9-6815-448b-b7e9-991ba00b1a14",
   "metadata": {},
   "outputs": [
    {
     "data": {
      "text/plain": [
       "0.0"
      ]
     },
     "execution_count": 8,
     "metadata": {},
     "output_type": "execute_result"
    }
   ],
   "source": [
    "# Identify the minimum value from the aqi column.\n",
    "\n",
    "np.min(epa_data[\"aqi\"])"
   ]
  },
  {
   "cell_type": "code",
   "execution_count": 9,
   "id": "cb77aadd-927f-4ab1-843d-bc8a403790bf",
   "metadata": {},
   "outputs": [
    {
     "data": {
      "text/plain": [
       "93.0"
      ]
     },
     "execution_count": 9,
     "metadata": {},
     "output_type": "execute_result"
    }
   ],
   "source": [
    "# Identify the maximum value from the aqi column.\n",
    "\n",
    "np.max(epa_data[\"aqi\"])"
   ]
  },
  {
   "cell_type": "code",
   "execution_count": 10,
   "id": "f0fc7e49-a3fa-4583-aa2f-35e28b16bb2a",
   "metadata": {},
   "outputs": [
    {
     "data": {
      "text/plain": [
       "10.385993408140687"
      ]
     },
     "execution_count": 10,
     "metadata": {},
     "output_type": "execute_result"
    }
   ],
   "source": [
    "# Compute the standard deviation for the aqi column.\n",
    "\n",
    "np.std(epa_data[\"aqi\"], ddof=1)"
   ]
  },
  {
   "cell_type": "code",
   "execution_count": null,
   "id": "7915e966-8392-450b-8d93-eead256291dd",
   "metadata": {},
   "outputs": [],
   "source": []
  }
 ],
 "metadata": {
  "kernelspec": {
   "display_name": "Python 3 (ipykernel)",
   "language": "python",
   "name": "python3"
  },
  "language_info": {
   "codemirror_mode": {
    "name": "ipython",
    "version": 3
   },
   "file_extension": ".py",
   "mimetype": "text/x-python",
   "name": "python",
   "nbconvert_exporter": "python",
   "pygments_lexer": "ipython3",
   "version": "3.12.7"
  }
 },
 "nbformat": 4,
 "nbformat_minor": 5
}
